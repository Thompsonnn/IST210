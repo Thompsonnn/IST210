{
  "nbformat": 4,
  "nbformat_minor": 0,
  "metadata": {
    "colab": {
      "name": "Lab1.ipynb",
      "provenance": [],
      "authorship_tag": "ABX9TyPJCJ0HVqRgj1fEgMpJdouP",
      "include_colab_link": true
    },
    "kernelspec": {
      "name": "python3",
      "display_name": "Python 3"
    }
  },
  "cells": [
    {
      "cell_type": "markdown",
      "metadata": {
        "id": "view-in-github",
        "colab_type": "text"
      },
      "source": [
        "<a href=\"https://colab.research.google.com/github/Thompsonnn/IST210/blob/master/Lab1.ipynb\" target=\"_parent\"><img src=\"https://colab.research.google.com/assets/colab-badge.svg\" alt=\"Open In Colab\"/></a>"
      ]
    },
    {
      "cell_type": "markdown",
      "metadata": {
        "id": "BRSb9d_Njm7H",
        "colab_type": "text"
      },
      "source": [
        "##Do you like using Jupyter Notebooks?\n"
      ]
    },
    {
      "cell_type": "markdown",
      "metadata": {
        "id": "ZbJGqUnulTrF",
        "colab_type": "text"
      },
      "source": [
        "Yes, I do enjoy using Jupyter Notebooks considering it is my first time using anything else to other than Canvas to submit assignments."
      ]
    },
    {
      "cell_type": "markdown",
      "metadata": {
        "id": "sAPCwSsti-mv",
        "colab_type": "text"
      },
      "source": [
        "##What do you want to learn more about in Jupyter Notebooks"
      ]
    },
    {
      "cell_type": "markdown",
      "metadata": {
        "id": "wBtdiy7Ul40J",
        "colab_type": "text"
      },
      "source": [
        "I am excited to learn of the different posibilities that Jupyter Notebooks can be used for."
      ]
    },
    {
      "cell_type": "markdown",
      "metadata": {
        "id": "Q8-SuZmDjJPL",
        "colab_type": "text"
      },
      "source": [
        "\n",
        "\n",
        "> ![My 5 Roomates and I chilling on our roof in State College](https://raw.githubusercontent.com/Thompsonnn/IST210/master/E08A75C3-D46B-41A4-B309-B593FAD9DD7C.jpeg)\n",
        "\n"
      ]
    }
  ]
}