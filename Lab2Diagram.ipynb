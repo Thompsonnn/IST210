{
  "nbformat": 4,
  "nbformat_minor": 0,
  "metadata": {
    "colab": {
      "name": "Lab2.ipynb",
      "provenance": [],
      "collapsed_sections": [],
      "authorship_tag": "ABX9TyP8hjUBGdyv0fI1qB03E1XY",
      "include_colab_link": true
    },
    "kernelspec": {
      "name": "python3",
      "display_name": "Python 3"
    }
  },
  "cells": [
    {
      "cell_type": "markdown",
      "metadata": {
        "id": "view-in-github",
        "colab_type": "text"
      },
      "source": [
        "<a href=\"https://colab.research.google.com/github/Thompsonnn/IST210/blob/master/Lab2Diagram.ipynb\" target=\"_parent\"><img src=\"https://colab.research.google.com/assets/colab-badge.svg\" alt=\"Open In Colab\"/></a>"
      ]
    },
    {
      "cell_type": "markdown",
      "metadata": {
        "id": "G88_7UBe3YOz"
      },
      "source": [
        ">![Lab2ERD](https://raw.githubusercontent.com/Thompsonnn/IST210/18cafda4393d9a11aa215a10585eb760238a4802/IST%20210%20Lab%202.png)"
      ]
    },
    {
      "cell_type": "markdown",
      "metadata": {
        "id": "kJPni9O048ZU"
      },
      "source": [
        "We designed our ER diagram in mind of an actual business model, this being Customers at the centre of everything. Each customer has their own unique CustomerID that contains details such as name, loyaltyID number, customers pet and a transaction history. CustomerID and LoyaltyID_Number share a one-to-one relationship as one customers can only join the loyalty program once. CustomerID shares a one-to-many relationship with both Animal and Pet food purchases because a single customer can make multiple purchases on different days for exmaple, being different transactions. Also the Food and Pets entities both share a one-to-many relationship with their respective transaction entities as at least one pet or food is required for a purchase to take place. "
      ]
    }
  ]
}