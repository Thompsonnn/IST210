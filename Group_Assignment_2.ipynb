{
  "nbformat": 4,
  "nbformat_minor": 0,
  "metadata": {
    "colab": {
      "name": "Group Assignment 2.ipynb",
      "provenance": [],
      "authorship_tag": "ABX9TyMDzYqs/2uu5SGw4mnYO0vI",
      "include_colab_link": true
    },
    "kernelspec": {
      "name": "python3",
      "display_name": "Python 3"
    }
  },
  "cells": [
    {
      "cell_type": "markdown",
      "metadata": {
        "id": "view-in-github",
        "colab_type": "text"
      },
      "source": [
        "<a href=\"https://colab.research.google.com/github/Thompsonnn/IST210/blob/master/Group_Assignment_2.ipynb\" target=\"_parent\"><img src=\"https://colab.research.google.com/assets/colab-badge.svg\" alt=\"Open In Colab\"/></a>"
      ]
    },
    {
      "cell_type": "markdown",
      "metadata": {
        "id": "1hG9v0OcBwOT"
      },
      "source": [
        ">![GA2ERD](https://raw.githubusercontent.com/Thompsonnn/IST210/master/Group%20Assignment%202.png)"
      ]
    },
    {
      "cell_type": "markdown",
      "metadata": {
        "id": "PlfLgYpkB5eS"
      },
      "source": [
        "As a group we discussed that since we are doing a Penn Stater Hotel as our idea,we should also try to use the Hotel Bussiness model as our foundation and you can clearly see that in terms of the layout. We'll go through the ER diagram starting with Guests. Guests are given a GuestID when checking in, this uniquely identifies the guest with their name, room number, total nights stayed and total cost. Guests will stay in Rooms and Hotel Amenities will be used by Guests. For cardinality we also chose (0,450) for Guests, (1,300) for Rooms and (0,10) for Hotel Amenites. This because a Guest doesnt always have to stay at the Hotel, but the Hotel can only hold a maximum of 450 Guests. A Hotel always has a mimum of 1 room and at our hotel we decided their would be a maximum of 300 rooms. Looking at the max values we choose 450 Guests for 300 Rooms because some rooms have more than 1 bed, so they can contain more than 1 guest at a time. We assigned Hotel Amenities the Cardinality of (0,10) because they are optional. Guests don't have to use the amenities, but they can be provided. To identify the amenities we have the Amenity name, this tells us the room_num it in, the floor_num its on and the Cost of the Amenity,\n",
        "\n",
        "Moving onto Rooms, Room Num(ber) is our primary key because it identifes the type of room, the floor its on and the Num(ber) of beds in it. Guest_ID is our foreign key because Guests stay in a room and it tells us which Guest is associated with which room. This then links to Linens. Linens are used in rooms. Linens has a cardinality of (1,500) because there is always Linen on at least one bed and since some rooms have multiple beds this requires there to be more Linen than rooms. Linen also has a primary key of Linen_Type this identifes the colour, cost and Linen Type number. There is no foregin key because Linen is not room specific. Linens are then changed by Employees. They have a cardinality of (1,45) because there is always an employee working as the Hotel could not operate without them, and there are only 45 employees. Each employee has an Employee_ID this identifies their name, position and salary.\n",
        "\n",
        "Finally the physical relationships. Guest has a many-to-many relationship with Rooms and Amenities because many Guests use multiple rooms and multiple amenities. Rooms have a one-to-many relationship with Linens because 1 room could contain multiple beds and therefore 1 room will require multiple sets of linen. Finally Employees have a one-to-many relationship with Linens because an employee can change multiple sets of linen.\n",
        "\n"
      ]
    }
  ]
}